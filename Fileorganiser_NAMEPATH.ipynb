{
 "cells": [
  {
   "cell_type": "code",
   "execution_count": 16,
   "metadata": {},
   "outputs": [],
   "source": [
    "import shutil, os,glob, re\n",
    "\n",
    "rootpath=\"E:ReefCloud/Vulcan_project/201912gbrfarnorth/20191205/\"\n",
    "\n",
    "subdirs=os.listdir(rootpath)\n",
    "\n",
    "for mypath in subdirs:\n",
    "    #Create subfolders based on the image name\n",
    "    subfolders=[]\n",
    "    for imgname in os.listdir(os.path.join(rootpath,mypath)):\n",
    "        if imgname.endswith(tuple((\".jpg\",\".JPG\"))):\n",
    "            a=imgname.split(\"_\")\n",
    "            thisgroup='_'\n",
    "            thisgroup=thisgroup.join(a[1:-1])\n",
    "            if thisgroup not in subfolders:\n",
    "                subfolders.append(thisgroup)\n",
    "\n",
    "\n",
    "    for x in subfolders:\n",
    "        if not os.path.exists(os.path.join(rootpath,mypath,x)):\n",
    "            os.mkdir(os.path.join(rootpath,mypath,x))\n",
    "\n",
    "    ##Move files to subfolders\n",
    "    for imgname in os.listdir(os.path.join(rootpath,mypath)):\n",
    "        if imgname.endswith(tuple((\".jpg\",\".JPG\"))):\n",
    "            a=imgname.split(\"_\")\n",
    "            thisgroup='_'\n",
    "            thisgroup=thisgroup.join(a[1:-1])\n",
    "            shutil.move(os.path.join(rootpath,mypath,imgname), os.path.join(rootpath, mypath, thisgroup, imgname))\n",
    "            \n"
   ]
  },
  {
   "cell_type": "code",
   "execution_count": 104,
   "metadata": {},
   "outputs": [],
   "source": [
    "for imgname in os.listdir(os.path.join(rootpath,mypath)):\n",
    "    if imgname.endswith(\".JPG\"):\n",
    "        print(imgname)\n",
    "        a=imgname.split(\"_\")\n",
    "        thisgroup='_'\n",
    "        thisgroup=thisgroup.join(a[1:-1])\n",
    "        if thisgroup not in subfolders:\n",
    "            subfolders.append(thisgroup)"
   ]
  },
  {
   "cell_type": "code",
   "execution_count": 7,
   "metadata": {},
   "outputs": [
    {
     "data": {
      "text/plain": [
       "'Exc'"
      ]
     },
     "execution_count": 7,
     "metadata": {},
     "output_type": "execute_result"
    }
   ],
   "source": [
    "imgname"
   ]
  }
 ],
 "metadata": {
  "kernelspec": {
   "display_name": "Python 3",
   "language": "python",
   "name": "python3"
  },
  "language_info": {
   "codemirror_mode": {
    "name": "ipython",
    "version": 3
   },
   "file_extension": ".py",
   "mimetype": "text/x-python",
   "name": "python",
   "nbconvert_exporter": "python",
   "pygments_lexer": "ipython3",
   "version": "3.8.2"
  }
 },
 "nbformat": 4,
 "nbformat_minor": 4
}
