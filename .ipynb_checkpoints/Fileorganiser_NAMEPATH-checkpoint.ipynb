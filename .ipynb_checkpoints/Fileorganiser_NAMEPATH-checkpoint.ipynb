{
 "cells": [
  {
   "cell_type": "code",
   "execution_count": 92,
   "metadata": {},
   "outputs": [],
   "source": [
    "import shutil, os,glob, re\n",
    "\n",
    "rootpath=\"E:ReefCloud/Vulcan_project/201912gbrfarnorth/20191204/\"\n",
    "\n",
    "subdirs=os.listdir(rootpath)\n",
    "\n",
    "for mypath in subdirs:\n",
    "    #Create subfolders based on the image name\n",
    "    subfolders=[]\n",
    "    for imgname in os.listdir(os.path.join(rootpath,mypath)):\n",
    "        if imgname.endswith(\".JPG\"):\n",
    "            a=imgname.split(\"_\")\n",
    "            thisgroup='_'\n",
    "            thisgroup=thisgroup.join(a[1:-1])\n",
    "            if thisgroup not in subfolders:\n",
    "                subfolders.append(thisgroup)\n",
    "\n",
    "    for x in subfolders:\n",
    "        if not os.path.exists(os.path.join(rootpath,mypath,x)):\n",
    "            os.mkdir(os.path.join(rootpath,mypath,x))\n",
    "\n",
    "    ##Move files to subfolders\n",
    "    for imgname in os.listdir(os.path.join(rootpath,mypath)):\n",
    "        if imgname.endswith(\".JPG\"):\n",
    "            a=imgname.split(\"_\")\n",
    "            thisgroup='_'\n",
    "            thisgroup=thisgroup.join(a[1:-1])\n",
    "            shutil.move(os.path.join(rootpath,mypath,imgname), os.path.join(rootpath, mypath, thisgroup, imgname))\n",
    "            \n"
   ]
  },
  {
   "cell_type": "code",
   "execution_count": 104,
   "metadata": {},
   "outputs": [],
   "source": [
    "for imgname in os.listdir(os.path.join(rootpath,mypath)):\n",
    "    if imgname.endswith(\".JPG\"):\n",
    "        print(imgname)\n",
    "        a=imgname.split(\"_\")\n",
    "        thisgroup='_'\n",
    "        thisgroup=thisgroup.join(a[1:-1])\n",
    "        if thisgroup not in subfolders:\n",
    "            subfolders.append(thisgroup)"
   ]
  },
  {
   "cell_type": "code",
   "execution_count": 107,
   "metadata": {},
   "outputs": [
    {
     "data": {
      "text/plain": [
       "'E:ReefCloud/Vulcan_project/201912gbrfarnorth/20191204/Snorkel'"
      ]
     },
     "execution_count": 107,
     "metadata": {},
     "output_type": "execute_result"
    }
   ],
   "source": [
    "os.path.join(rootpath,mypath)"
   ]
  }
 ],
 "metadata": {
  "kernelspec": {
   "display_name": "Python 3",
   "language": "python",
   "name": "python3"
  },
  "language_info": {
   "codemirror_mode": {
    "name": "ipython",
    "version": 3
   },
   "file_extension": ".py",
   "mimetype": "text/x-python",
   "name": "python",
   "nbconvert_exporter": "python",
   "pygments_lexer": "ipython3",
   "version": "3.8.2"
  }
 },
 "nbformat": 4,
 "nbformat_minor": 4
}
