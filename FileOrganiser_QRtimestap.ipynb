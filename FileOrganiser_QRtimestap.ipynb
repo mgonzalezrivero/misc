{
 "cells": [
  {
   "cell_type": "markdown",
   "metadata": {},
   "source": [
    "# File Organiser for LTMP GoPRO\n",
    "\n",
    "This script will walk you through three steps to:\n",
    "1) Sort images: This step organises all the images from the Left (LC) and Right (RC) cameras, in a given Reef folder, into subfolders using a time gap to distinguish transects and sites. Then, it automatically recognises the QR codes in the images and rename transect subfolders for each camera folder.\n",
    "2) Manually review subfolder names and allocate names to those where QR was not recognised\n",
    "3) Automatically merge subfolders from Left and Right Camera"
   ]
  },
  {
   "cell_type": "markdown",
   "metadata": {},
   "source": [
    "## SET UP"
   ]
  },
  {
   "cell_type": "code",
   "execution_count": 4,
   "metadata": {},
   "outputs": [],
   "source": [
    "from pyzbar import pyzbar\n",
    "import argparse\n",
    "import cv2, os, datetime\n",
    "import exifread\n",
    "import pandas as pd, numpy as np\n",
    "import shutil\n",
    "from tqdm import tqdm, notebook\n",
    "from time import sleep\n",
    "\n",
    "\n",
    "# mypath=\"E:3d_ltmp/data/LTMP/201920/RAP/QA/arlington reef/LC\"\n",
    "rootpath=\"E:3d_ltmp/data/LTMP/201920/RAP/QA/arlington reef/\"\n",
    "img_rename='ARLINGTON REEF_V28'\n",
    "QRmap=pd.read_csv(\"C:/Users/mgonzale/Documents/gits/misc_manu/QRmap.csv\")\n"
   ]
  },
  {
   "cell_type": "markdown",
   "metadata": {},
   "source": [
    "## STEP 1: Sort images, QR scan and rename subdirectories"
   ]
  },
  {
   "cell_type": "code",
   "execution_count": 29,
   "metadata": {},
   "outputs": [
    {
     "data": {
      "application/vnd.jupyter.widget-view+json": {
       "model_id": "a06b529b480749dc92ba927a9f499be5",
       "version_major": 2,
       "version_minor": 0
      },
      "text/plain": [
       "HBox(children=(FloatProgress(value=0.0, description='Sorting images', max=2.0, style=ProgressStyle(description…"
      ]
     },
     "metadata": {},
     "output_type": "display_data"
    },
    {
     "data": {
      "application/vnd.jupyter.widget-view+json": {
       "model_id": "",
       "version_major": 2,
       "version_minor": 0
      },
      "text/plain": [
       "HBox(children=(FloatProgress(value=0.0, description='Clustering images', max=14.0, style=ProgressStyle(descrip…"
      ]
     },
     "metadata": {},
     "output_type": "display_data"
    },
    {
     "data": {
      "application/vnd.jupyter.widget-view+json": {
       "model_id": "",
       "version_major": 2,
       "version_minor": 0
      },
      "text/plain": [
       "HBox(children=(FloatProgress(value=0.0, description='Clustering images', max=15.0, style=ProgressStyle(descrip…"
      ]
     },
     "metadata": {},
     "output_type": "display_data"
    },
    {
     "name": "stdout",
     "output_type": "stream",
     "text": [
      "\n"
     ]
    },
    {
     "data": {
      "application/vnd.jupyter.widget-view+json": {
       "model_id": "a38f531dd98549c2930734a64f5f9449",
       "version_major": 2,
       "version_minor": 0
      },
      "text/plain": [
       "HBox(children=(FloatProgress(value=0.0, description='Detecting QR codes', max=2.0, style=ProgressStyle(descrip…"
      ]
     },
     "metadata": {},
     "output_type": "display_data"
    },
    {
     "data": {
      "application/vnd.jupyter.widget-view+json": {
       "model_id": "",
       "version_major": 2,
       "version_minor": 0
      },
      "text/plain": [
       "HBox(children=(FloatProgress(value=0.0, description='Scanning subdirectories', max=14.0, style=ProgressStyle(d…"
      ]
     },
     "metadata": {},
     "output_type": "display_data"
    },
    {
     "data": {
      "application/vnd.jupyter.widget-view+json": {
       "model_id": "",
       "version_major": 2,
       "version_minor": 0
      },
      "text/plain": [
       "HBox(children=(FloatProgress(value=0.0, description='Scanning subdirectories', max=14.0, style=ProgressStyle(d…"
      ]
     },
     "metadata": {},
     "output_type": "display_data"
    },
    {
     "name": "stdout",
     "output_type": "stream",
     "text": [
      "\n",
      "9 QR codes found in 1935 subdirectories for RC\n",
      "6 QR codes found in 1965 subdirectories for LC\n"
     ]
    }
   ],
   "source": [
    "\n",
    "# SORT IMAGES\n",
    "for c in notebook.tnrange(len(os.listdir(rootpath)), desc='Sorting images per camera'):\n",
    "    camera=os.listdir(rootpath)[c]\n",
    "    mypath=os.path.join(rootpath,camera)\n",
    "    imdf=pd.DataFrame({'filename':[],'DateTime':[]})\n",
    "    count=0\n",
    "    for imgname in os.listdir(mypath):\n",
    "        if imgname.endswith(\".JPG\"):\n",
    "            ##Organise images by time\n",
    "            count=count+1\n",
    "            fh=open(os.path.join(mypath,imgname), 'rb')\n",
    "            tags = exifread.process_file(fh, stop_tag=\"EXIF DateTimeOriginal\")\n",
    "            iminfo=pd.DataFrame({'filename':[os.path.join(mypath,imgname)], \n",
    "                                 'DateTime': [datetime.datetime.strptime(str(tags[\"EXIF DateTimeOriginal\"]),\n",
    "                                                                         '%Y:%m:%d %H:%M:%S')]})\n",
    "            imdf=imdf.append(iminfo)\n",
    "\n",
    "    # Move image cluster into subfolders\n",
    "    imdf = imdf.sort_values(\"DateTime\")\n",
    "    cluster = (imdf[\"DateTime\"].diff() > pd.Timedelta(minutes=3)).cumsum()\n",
    "    dfs = [v for k,v in imdf.groupby(cluster)]\n",
    "    i=0\n",
    "    prefix=img_rename+'_'+camera+'_'\n",
    "    for clust_idx in notebook.tnrange(len(dfs),desc='Creating transects', leave=False):\n",
    "        clust=dfs[clust_idx]\n",
    "        #ignore clusters where there is only a couple of images\n",
    "        if len(clust)>5:\n",
    "            i=i+1\n",
    "            dest=os.path.join(mypath,str(i))\n",
    "            if not os.path.exists(dest):\n",
    "                os.mkdir(dest)\n",
    "            clust.apply(lambda row: shutil.copy(row['filename'], os.path.join(dest,\n",
    "                                                                              prefix+os.path.basename(row['filename']))), \n",
    "                        axis=1)\n",
    "\n",
    "\n",
    "def gamma_trans(img, gamma):\n",
    "    gamma_table=[np.power(x/255.0,gamma)*255.0 for x in range(256)]\n",
    "    gamma_table=np.round(np.array(gamma_table)).astype(np.uint8)\n",
    "    return cv2.LUT(img,gamma_table)\n",
    "\n",
    "def imgThreshold(img_grey):\n",
    "    t=cv2.mean(img_grey)\n",
    "    t=tuple(map(lambda x: isinstance(x, float) and int(round(x, 0)) or x, t))\n",
    "    #BINARY THRESHOLD\n",
    "    ret,img1=cv2.threshold(img_grey,t[0],255,cv2.THRESH_BINARY)\n",
    "    #OTSU THRESHOLD\n",
    "    ret,img2=cv2.threshold(img_grey,t[0],255,cv2.THRESH_BINARY+cv2.THRESH_OTSU)\n",
    "    #UTSI+Gaussian Filter THRESHOLD\n",
    "    blur = cv2.GaussianBlur(img_grey,(5,5),0)\n",
    "    ret,img3=cv2.threshold(img_grey,t[0],255,cv2.THRESH_BINARY+cv2.THRESH_OTSU)\n",
    "    images=[img_grey,img1,img2,img3]\n",
    "    titles=['org','Binary','OTSU','OTSU+Gaussian']\n",
    "    return (img1,img2,img3)\n",
    "    \n",
    "## Run QR code detection and rename subdirectoris\n",
    "qrData=pd.DataFrame(columns=['Code','Folder', 'Camera'])\n",
    "for c in notebook.tnrange(len(os.listdir(rootpath)), desc='Detecting QR codes'):\n",
    "    camera=os.listdir(rootpath)[c]\n",
    "    mypath=os.path.join(rootpath,camera)\n",
    "    gdir = [dI for dI in os.listdir(mypath) if os.path.isdir(os.path.join(mypath,dI))]\n",
    "    for gx in notebook.tnrange(len(gdir), desc='Scanning subdirectories',leave=False):\n",
    "        g=gdir[gx]\n",
    "        if os.path.isdir(os.path.join(mypath,g)):\n",
    "    #         print(\"[STATUS]: Analysing Folder #: {}\".format(g))\n",
    "    #         iterator=tqdm(os.listdir(os.path.join(mypath,g))[0:5])\n",
    "#             for imgname in notebook.tqdm(os.listdir(os.path.join(mypath,g))[0:5], desc=\"Folder #: {}\".format(g),leave=True):\n",
    "            check=0\n",
    "            im=0\n",
    "            while (check <1) & (im in range(5)):\n",
    "                if len(os.listdir(os.path.join(mypath,g)))>10:\n",
    "                    imgname=os.listdir(os.path.join(mypath,g))[im]\n",
    "                    if imgname.endswith(tuple((\".jpg\",\".JPG\"))):\n",
    "                    # load the input image\n",
    "                        img_colour = cv2.imread(os.path.join(mypath,g,imgname))\n",
    "                        img_grey = cv2.imread(os.path.join(mypath,g,imgname), 0)\n",
    "                        img_lowgamma=gamma_trans(img_colour,0.5)\n",
    "                        img_highgamma=gamma_trans(img_colour,1.5)\n",
    "                        img_t1,img_t2,img_t3=imgThreshold(img_grey)\n",
    "                        # find the barcodes in the image and decode each of the barcodes\n",
    "                        img_list=(img_colour,img_grey, img_lowgamma, img_highgamma,img_t1,img_t2,img_t3)\n",
    "                        method_list=['original','grey_scale','low_luminisity','high_luminosity', \n",
    "                                     'Binary_Threshold','OTSU Threshold','OTSU+Gaussian Threshold']\n",
    "                        i=0\n",
    "                        check2=0\n",
    "                        while (check2 < 1) & (i in range(len(img_list))):\n",
    "                            img=img_list[i]\n",
    "                            barcodes = pyzbar.decode(img,symbols=[pyzbar.ZBarSymbol.QRCODE])\n",
    "                            # loop over the detected barcodes\n",
    "                            if len(barcodes) != 0:\n",
    "                                for barcode in barcodes:\n",
    "                                    barcodeData = barcode.data.decode(\"utf-8\")\n",
    "                                    barcodeType = barcode.type\n",
    "                                    qrData=qrData.append({'Code': barcodeData,\n",
    "                                                              'Folder': g,\n",
    "                                                              'Camera':camera}, ignore_index=True)\n",
    "                                check2 +=1\n",
    "                            else:\n",
    "                                check2=0\n",
    "                            i +=1\n",
    "                if check2==1:\n",
    "                    check +=1\n",
    "                    newname=str(QRmap['Name'].loc[QRmap['Code']==int(barcodeData)].to_list()[0])\n",
    "                    newname=g+'_'+newname\n",
    "                    if not os.path.exists(os.path.join(mypath,newname)):\n",
    "                        os.rename(os.path.join(mypath,g),os.path.join(mypath,newname))\n",
    "                        \n",
    "                im +=1\n",
    "\n",
    "\n",
    "print('{} QR codes found in {} transects for the {} camera'.format(len(qrData['Code'].loc[qrData['Camera']=='RC']),\n",
    "                                                            len(os.listdir(os.path.join(rootpath,'RC'))),\n",
    "                                                            'RC'))\n",
    "print('{} QR codes found in {} transects for the {} camera'.format(len(qrData['Code'].loc[qrData['Camera']=='LC']),\n",
    "                                                            len(os.listdir(os.path.join(rootpath,'LC'))),\n",
    "                                                            'LC'))\n",
    "\n",
    "print('[IMPORTANT]: Please rename transect folders before continue. Use suggestiongs from QR scaner to rename all folders')"
   ]
  },
  {
   "cell_type": "markdown",
   "metadata": {},
   "source": [
    "## STEP 2: Manual renaming of transect folders\n",
    "After the automation of QR scanning, it is possible that not all codes are recognised. Hence, the script above, kept the sequential numbering of the folders and inserted the Site#Tran# for those where the code was recognised. The original sequencial numbering was kept, so you know there other in which the images were taken. This should make it easier to rename those that were not named after the QR code scanning (i.e., filling the gaps).\n",
    "\n",
    "After renaming those, please remove the numbers from the other folders, so we keep the folders exactly how we need them. For example:\n",
    "* Site1Tran1\n",
    "*Site2Tran1\n",
    "*...\n"
   ]
  },
  {
   "cell_type": "markdown",
   "metadata": {},
   "source": [
    "## STEP 3: Merge renamed transect folders from each camera"
   ]
  },
  {
   "cell_type": "code",
   "execution_count": 51,
   "metadata": {},
   "outputs": [
    {
     "data": {
      "application/vnd.jupyter.widget-view+json": {
       "model_id": "dea17595c5e94a2ba157aa5399d5826f",
       "version_major": 2,
       "version_minor": 0
      },
      "text/plain": [
       "HBox(children=(FloatProgress(value=0.0, description='Moving camera files', max=2.0, style=ProgressStyle(descri…"
      ]
     },
     "metadata": {},
     "output_type": "display_data"
    },
    {
     "data": {
      "application/vnd.jupyter.widget-view+json": {
       "model_id": "aa2ce40834a34dc18d72db4b334c2984",
       "version_major": 2,
       "version_minor": 0
      },
      "text/plain": [
       "HBox(children=(FloatProgress(value=0.0, description='Working within transects', max=14.0, style=ProgressStyle(…"
      ]
     },
     "metadata": {},
     "output_type": "display_data"
    },
    {
     "name": "stdout",
     "output_type": "stream",
     "text": [
      "\n"
     ]
    },
    {
     "data": {
      "application/vnd.jupyter.widget-view+json": {
       "model_id": "5747abd9a4b14b98b6526e93d4b0c1e0",
       "version_major": 2,
       "version_minor": 0
      },
      "text/plain": [
       "HBox(children=(FloatProgress(value=0.0, description='Working within transects', max=11.0, style=ProgressStyle(…"
      ]
     },
     "metadata": {},
     "output_type": "display_data"
    },
    {
     "name": "stdout",
     "output_type": "stream",
     "text": [
      "\n",
      "\n"
     ]
    }
   ],
   "source": [
    "cameras=['RC','LC']\n",
    "for c in notebook.tnrange(len(cameras), desc='Moving camera files'):\n",
    "    camera=cameras[c]\n",
    "    mypath=os.path.join(rootpath,camera)\n",
    "    gdir = [dI for dI in os.listdir(mypath) if os.path.isdir(os.path.join(mypath,dI))]\n",
    "    for tidx in notebook.tnrange(len(gdir), desc='Working within transects', leave=True):\n",
    "        t=gdir[tidx]\n",
    "        newfolder= os.path.join(rootpath,t)\n",
    "        if not os.path.exists(newfolder):\n",
    "            os.mkdir(newfolder)\n",
    "        for basename in os.listdir(os.path.join(mypath,t)):\n",
    "            if basename.endswith(tuple((\".jpg\",\".JPG\"))):\n",
    "                pathname = os.path.join(os.path.join(mypath,t,basename))\n",
    "            if os.path.isfile(pathname):\n",
    "                shutil.move(pathname, newfolder)\n",
    "        os.rmdir(os.path.join(mypath,t))\n",
    "        \n",
    "##Summarise results\n",
    "\n",
    "            \n",
    "\n",
    "    "
   ]
  },
  {
   "cell_type": "code",
   "execution_count": 42,
   "metadata": {},
   "outputs": [
    {
     "data": {
      "application/vnd.jupyter.widget-view+json": {
       "model_id": "7ef56ca43ee24b5a9d4e5ff07c7414c9",
       "version_major": 2,
       "version_minor": 0
      },
      "text/plain": [
       "HBox(children=(FloatProgress(value=0.0, description='Moving files', max=2.0, style=ProgressStyle(description_w…"
      ]
     },
     "metadata": {},
     "output_type": "display_data"
    },
    {
     "name": "stdout",
     "output_type": "stream",
     "text": [
      "\n"
     ]
    }
   ],
   "source": [
    "cameras=['RC','LC']\n",
    "for c in notebook.tnrange(len(cameras), desc='Moving camera files'):\n",
    "    camera=cameras[c]\n",
    "    mypath=os.path.join(rootpath,camera)\n",
    "    gdir = [dI for dI in os.listdir(mypath) if os.path.isdir(os.path.join(mypath,dI))]\n",
    "    for t in notebook.tnrange(len(gdir), desc='sorting transects'):\n",
    "        trans=gdir[t]\n",
    "        dest=os.path.join(rootpath, trans)\n",
    "        if os.path.exists(dest):\n",
    "            os.mkdir(dest)\n",
    "        for basename in os.listdir(trans):\n",
    "                if basename.endswith('.JPG'):\n",
    "                    pathname = os.path.join(srcdir, basename)\n",
    "                if os.path.isfile(pathname):\n",
    "                    shutil.copy2(pathname, dstdir)\n",
    "        "
   ]
  },
  {
   "cell_type": "code",
   "execution_count": 43,
   "metadata": {},
   "outputs": [
    {
     "data": {
      "text/plain": [
       "['Site1Tran1',\n",
       " 'Site1Tran2',\n",
       " 'Site1Tran3',\n",
       " 'Site2Tran1',\n",
       " 'Site3Tran2',\n",
       " 'Site3Tran3',\n",
       " 'Site1Tran4',\n",
       " 'Site2Tran2',\n",
       " 'Site2Tran3',\n",
       " 'Site2Tran4',\n",
       " 'Site2Tran5',\n",
       " 'Site3Tran1',\n",
       " 'Site3Tran4',\n",
       " 'Site3Tran5']"
      ]
     },
     "execution_count": 43,
     "metadata": {},
     "output_type": "execute_result"
    }
   ],
   "source": [
    "gdir"
   ]
  }
 ],
 "metadata": {
  "kernelspec": {
   "display_name": "Python 3",
   "language": "python",
   "name": "python3"
  },
  "language_info": {
   "codemirror_mode": {
    "name": "ipython",
    "version": 3
   },
   "file_extension": ".py",
   "mimetype": "text/x-python",
   "name": "python",
   "nbconvert_exporter": "python",
   "pygments_lexer": "ipython3",
   "version": "3.8.2"
  }
 },
 "nbformat": 4,
 "nbformat_minor": 4
}
